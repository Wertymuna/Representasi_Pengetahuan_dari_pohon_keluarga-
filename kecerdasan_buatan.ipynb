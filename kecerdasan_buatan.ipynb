{
  "nbformat": 4,
  "nbformat_minor": 0,
  "metadata": {
    "colab": {
      "provenance": [],
      "authorship_tag": "ABX9TyOcPSuJgknmLvHdP7mWL+qF",
      "include_colab_link": true
    },
    "kernelspec": {
      "name": "python3",
      "display_name": "Python 3"
    },
    "language_info": {
      "name": "python"
    }
  },
  "cells": [
    {
      "cell_type": "markdown",
      "metadata": {
        "id": "view-in-github",
        "colab_type": "text"
      },
      "source": [
        "<a href=\"https://colab.research.google.com/github/Wertymuna/Representasi_Pengetahuan_dari_pohon_keluarga-/blob/main/kecerdasan_buatan.ipynb\" target=\"_parent\"><img src=\"https://colab.research.google.com/assets/colab-badge.svg\" alt=\"Open In Colab\"/></a>"
      ]
    },
    {
      "cell_type": "code",
      "execution_count": 1,
      "metadata": {
        "colab": {
          "base_uri": "https://localhost:8080/"
        },
        "id": "lCooWvg0HIoA",
        "outputId": "314d2601-7b28-404f-f071-453d80d855e4"
      },
      "outputs": [
        {
          "output_type": "stream",
          "name": "stdout",
          "text": [
            "Orang tua Anggun: ['Mira', 'Hafid']\n",
            "Saudara Anggun: ['Boy', 'Boy']\n",
            "Kakek/Nenek Anggun: ['Rina']\n",
            "Paman/Bibi Anggun: ['Yanto', 'Hamzah', 'Eka', 'Bastian']\n",
            "Sepupu Anggun: []\n"
          ]
        }
      ],
      "source": [
        "# Representasi pohon keluarga menggunakan dictionary\n",
        "keluarga = {\n",
        "    \"Hadi\": {\"pasangan\": \"Retno\", \"anak\": [\"Desi\", \"Wahyu\", \"Rina\"]},\n",
        "    \"Retno\": {\"pasangan\": \"Hadi\", \"anak\": [\"Desi\", \"Wahyu\", \"Rina\"]},\n",
        "    \"Desi\": {\"pasangan\": None, \"anak\": [\"Bayu\", \"Tari\", \"Nurul\"]},\n",
        "    \"Wahyu\": {\"pasangan\": None, \"anak\": [\"Nurul\"]},\n",
        "    \"Rina\": {\"pasangan\": None, \"anak\": [\"Yanto\", \"Hamzah\", \"Eka\", \"Mira\", \"Bastian\"]},\n",
        "    \"Bayu\": {\"pasangan\": None, \"anak\": [\"Fahrul\"]},\n",
        "    \"Tari\": {\"pasangan\": None, \"anak\": [\"Wanda\"]},\n",
        "    \"Nurul\": {\"pasangan\": None, \"anak\": [\"Aji\", \"Gunawan\"]},\n",
        "    \"Yanto\": {\"pasangan\": None, \"anak\": []},\n",
        "    \"Hamzah\": {\"pasangan\": None, \"anak\": []},\n",
        "    \"Eka\": {\"pasangan\": None, \"anak\": []},\n",
        "    \"Mira\": {\"pasangan\": \"Hafid\", \"anak\": [\"Anggun\", \"Boy\"]},\n",
        "    \"Hafid\": {\"pasangan\": \"Mira\", \"anak\": [\"Anggun\", \"Boy\"]},\n",
        "    \"Bastian\": {\"pasangan\": None, \"anak\": []},\n",
        "    \"Fahrul\": {\"pasangan\": None, \"anak\": []},\n",
        "    \"Wanda\": {\"pasangan\": None, \"anak\": []},\n",
        "    \"Aji\": {\"pasangan\": None, \"anak\": []},\n",
        "    \"Gunawan\": {\"pasangan\": None, \"anak\": []},\n",
        "    \"Anggun\": {\"pasangan\": None, \"anak\": []},\n",
        "    \"Boy\": {\"pasangan\": None, \"anak\": []}\n",
        "}\n",
        "\n",
        "# Fungsi untuk mendapatkan relasi\n",
        "def orang_tua(nama):\n",
        "    for orang, data in keluarga.items():\n",
        "        if nama in data.get(\"anak\", []):\n",
        "            yield orang\n",
        "\n",
        "def saudara(nama):\n",
        "    for orang, data in keluarga.items():\n",
        "        if nama in data.get(\"anak\", []):\n",
        "            for anak in data[\"anak\"]:\n",
        "                if anak != nama:\n",
        "                    yield anak\n",
        "\n",
        "def kakek_nenek(nama):\n",
        "    for orang_tua_nama in orang_tua(nama):\n",
        "        yield from orang_tua(orang_tua_nama)\n",
        "\n",
        "def paman_bibi(nama):\n",
        "    for orang_tua_nama in orang_tua(nama):\n",
        "        for saudara_nama in saudara(orang_tua_nama):\n",
        "            yield saudara_nama\n",
        "\n",
        "def sepupu(nama):\n",
        "    for paman_bibi_nama in paman_bibi(nama):\n",
        "        yield from keluarga.get(paman_bibi_nama, {}).get(\"anak\", [])\n",
        "\n",
        "# Contoh penggunaan\n",
        "nama = \"Anggun\"\n",
        "print(f\"Orang tua {nama}: {list(orang_tua(nama))}\")\n",
        "print(f\"Saudara {nama}: {list(saudara(nama))}\")\n",
        "print(f\"Kakek/Nenek {nama}: {list(kakek_nenek(nama))}\")\n",
        "print(f\"Paman/Bibi {nama}: {list(paman_bibi(nama))}\")\n",
        "print(f\"Sepupu {nama}: {list(sepupu(nama))}\")\n"
      ]
    }
  ]
}